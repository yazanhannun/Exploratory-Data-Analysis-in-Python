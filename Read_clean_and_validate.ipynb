{
 "cells": [
  {
   "cell_type": "markdown",
   "metadata": {},
   "source": [
    "Read, clean, and validate\n",
    "\n",
    "The first step of almost any data project is to read the data, check for errors and special cases, and prepare data for analysis. This is exactly what you'll do in this chapter, while working with a dataset obtained from the National Survey of Family Growth."
   ]
  },
  {
   "cell_type": "markdown",
   "metadata": {},
   "source": [
    "1. DataFrames and Series"
   ]
  },
  {
   "cell_type": "markdown",
   "metadata": {},
   "source": [
    "1.1 Exploring the NSFG data\n",
    "\n",
    "To get the number of rows and columns in a DataFrame, you can read its shape attribute.\n",
    "\n",
    "To get the column names, you can read the columns attribute. The result is an Index, which is a Pandas data structure \n",
    "that is similar to a list. Let's begin exploring the NSFG data! It has been pre-loaded for you into a DataFrame called \n",
    "nsfg."
   ]
  },
  {
   "cell_type": "code",
   "execution_count": null,
   "metadata": {},
   "outputs": [],
   "source": [
    "import pandas as pd\n",
    "nsfg = pd.read_hdf('datasets//nsfg.hdf5')\n",
    "\n",
    "# Display the number of rows and columns\n",
    "print(nsfg.shape)\n",
    "\n",
    "# Display the names of the columns\n",
    "print(nsfg.columns)\n",
    "\n",
    "# Select column birthwgt_oz1: ounces\n",
    "ounces = nsfg['birthwgt_oz1']\n",
    "\n",
    "# Print the first 5 elements of ounces\n",
    "print(ounces.head())"
   ]
  },
  {
   "cell_type": "markdown",
   "metadata": {},
   "source": [
    "2. Clean and Validate"
   ]
  },
  {
   "cell_type": "markdown",
   "metadata": {},
   "source": [
    "2.1 Validate a variable\n",
    "\n",
    "In the NSFG dataset, the variable 'outcome' encodes the outcome of each pregnancy as shown below:\n",
    "\n",
    "|value\t| label             |\n",
    "|------ |------------------ |    \n",
    "|1\t    |Live birth         |\n",
    "|2\t    |Induced abortion   |\n",
    "|3\t    |Stillbirth         |\n",
    "|4\t    |Miscarriage        |\n",
    "|5\t    |Ectopic pregnancy  |\n",
    "|6\t    |Current pregnancy  |\n",
    "\n",
    "The nsfg DataFrame has been pre-loaded for you. Explore it in the IPython Shell and use the methods Allen showed you in the video to answer the following question: How many pregnancies in this dataset ended with a live birth?\n",
    "\n",
    "Possible Answers:\n",
    "- 6489  (True)\n",
    "- 9538\n",
    "- 1469\n",
    "- 6"
   ]
  },
  {
   "cell_type": "code",
   "execution_count": null,
   "metadata": {},
   "outputs": [],
   "source": [
    "nsfg['outcome'].value_counts()"
   ]
  },
  {
   "cell_type": "markdown",
   "metadata": {},
   "source": [
    "2.2 Clean a variable\n",
    "\n",
    "In the NSFG dataset, the variable 'nbrnaliv' records the number of babies born alive at the end of a pregnancy.\n",
    "\n",
    "If you use .value_counts() to view the responses, you'll see that the value 8 appears once, and if you consult the codebook, you'll see that this value indicates that the respondent refused to answer the question.\n",
    "\n",
    "Your job in this exercise is to replace this value with np.nan. Recall from the video how Allen replaced the values 98 and 99 in the ounces column using the .replace() method:\n",
    "\n",
    "```python:\n",
    "ounces.replace([98, 99], np.nan, inplace=True)\n",
    "```"
   ]
  },
  {
   "cell_type": "code",
   "execution_count": null,
   "metadata": {},
   "outputs": [],
   "source": []
  }
 ],
 "metadata": {
  "kernelspec": {
   "display_name": "Python 3.10.8 64-bit (microsoft store)",
   "language": "python",
   "name": "python3"
  },
  "language_info": {
   "codemirror_mode": {
    "name": "ipython",
    "version": 3
   },
   "file_extension": ".py",
   "mimetype": "text/x-python",
   "name": "python",
   "nbconvert_exporter": "python",
   "pygments_lexer": "ipython3",
   "version": "3.10.8"
  },
  "orig_nbformat": 4,
  "vscode": {
   "interpreter": {
    "hash": "cd85abab4e42ed52d78993b1b54e037968b74145d44eb01d9e116517c8fc42a2"
   }
  }
 },
 "nbformat": 4,
 "nbformat_minor": 2
}
