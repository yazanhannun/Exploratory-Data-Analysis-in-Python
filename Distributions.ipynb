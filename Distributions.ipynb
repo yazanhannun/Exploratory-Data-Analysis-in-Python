{
 "cells": [
  {
   "cell_type": "markdown",
   "metadata": {},
   "source": [
    "# Distributions\n",
    "\n",
    "In the first chapter, having cleaned and validated your data, you began exploring it by using histograms to visualize distributions. In this chapter, you'll learn how to represent distributions using Probability Mass Functions (PMFs) and Cumulative Distribution Functions (CDFs). You'll learn when to use each of them, and why, while working with a new dataset obtained from the General Social Survey."
   ]
  },
  {
   "cell_type": "markdown",
   "metadata": {},
   "source": [
    "# 1. Probability mass functions\n"
   ]
  },
  {
   "cell_type": "markdown",
   "metadata": {},
   "source": [
    "1.2 Make a PMF\n",
    "\n",
    "The GSS dataset has been pre-loaded for you into a DataFrame called gss. You can explore it in the IPython \n",
    "Shell to get familiar with it.\n",
    "\n",
    "In this exercise, you'll focus on one variable in this dataset, 'year', which represents the year each \n",
    "respondent was interviewed.\n",
    "\n",
    "The Pmf class you saw in the video has already been created for you. You can access it \n",
    "via the empiricaldist library https://nbviewer.org/github/AllenDowney/empiricaldist/blob/master/empiricaldist/dist_demo.ipynb"
   ]
  },
  {
   "cell_type": "code",
   "execution_count": null,
   "metadata": {},
   "outputs": [],
   "source": [
    "import pandas as pd\n",
    "import matplotlib.pyplot as plt\n",
    "from empiricaldist import Pmf\n",
    "\n",
    "def underride(d, **options):\n",
    "    \"\"\"Add key-value pairs to d only if key is not in d.\n",
    "\n",
    "    d: dictionary\n",
    "    options: keyword args to add to d\n",
    "    \"\"\"\n",
    "    for key, val in options.items():\n",
    "        d.setdefault(key, val)\n",
    "\n",
    "    return d\n",
    "\n",
    "class Pmf(pd.Series):\n",
    "    \n",
    "    def __init__(self, seq, name='Pmf', **options):\n",
    "        \"\"\"Make a PMF from a sequence.\n",
    "        \n",
    "        seq: sequence of values\n",
    "        name: string\n",
    "        sort: boolean, whether to sort the values, default True\n",
    "        normalize: boolean, whether to normalize the Pmf, default True\n",
    "        dropna: boolean, whether to drop NaN, default True\n",
    "        \"\"\"\n",
    "        # get the sort flag\n",
    "        sort = options.pop('sort', True)\n",
    "\n",
    "        # normalize unless the caller said not to\n",
    "        underride(options, normalize=True)\n",
    "        \n",
    "        # put the seq in a Series so we can use value_counts\n",
    "        series = pd.Series(seq, copy=False)\n",
    "        \n",
    "        # make the counts\n",
    "        # by default value_counts sorts by frequency, which\n",
    "        # is not what we want\n",
    "        options['sort'] = False\n",
    "        counts = series.value_counts(**options)\n",
    "        \n",
    "        # sort by value\n",
    "        if sort:\n",
    "            counts.sort_index(inplace=True)\n",
    "            \n",
    "        # call Series.__init__\n",
    "        super().__init__(counts, name=name)\n",
    "\n",
    "    @property\n",
    "    def qs(self):\n",
    "        return self.index.values\n",
    "\n",
    "    @property\n",
    "    def ps(self):\n",
    "        return self.values\n",
    "\n",
    "    def __call__(self, qs):\n",
    "        \"\"\"Look up a value in the PMF.\"\"\"\n",
    "        return self.get(qs, 0)\n",
    "\n",
    "    def normalize(self):\n",
    "        \"\"\"Normalize the PMF.\"\"\"\n",
    "        self /= self.sum()\n",
    "\n",
    "    def bar(self, **options):\n",
    "        \"\"\"Plot the PMF as a bar plot.\"\"\"\n",
    "        underride(options, label=self.name)\n",
    "        plt.bar(self.index, self.values, **options)\n",
    "\n",
    "    def plot(self, **options):\n",
    "        \"\"\"Plot the PMF with lines.\"\"\"\n",
    "        underride(options, label=self.name)\n",
    "        plt.plot(self.index, self.values, **options)"
   ]
  },
  {
   "cell_type": "code",
   "execution_count": null,
   "metadata": {},
   "outputs": [],
   "source": [
    "# from empiricaldist import Pmf\n",
    "gss = pd.read_hdf('C:\\\\Users\\\\yazan\\\\Desktop\\\\Data_Analytics\\\\7-Exploratory Data Analysis in Python\\\\datasets\\\\gss.hdf5','gss')\n",
    "\n",
    "# Compute the PMF for year\n",
    "pmf_year = Pmf(gss.year, normalize=False)\n",
    "\n",
    "# Print the result\n",
    "print(pmf_year)"
   ]
  },
  {
   "cell_type": "markdown",
   "metadata": {},
   "source": [
    "1.2 Plot a PMF\n",
    "\n",
    "Now let's plot a PMF for the age of the respondents in the GSS dataset. The variable 'age' contains respondents' age in years."
   ]
  },
  {
   "cell_type": "code",
   "execution_count": null,
   "metadata": {},
   "outputs": [],
   "source": [
    "# Select the age column\n",
    "age = gss['age']\n",
    "\n",
    "# Make a PMF of age\n",
    "pmf_age = Pmf(age)\n",
    "\n",
    "# Plot the PMF\n",
    "pmf_age.bar(label='age')\n",
    "\n",
    "# Label the axes\n",
    "plt.xlabel('Age')\n",
    "plt.ylabel('PMF')\n",
    "plt.show()"
   ]
  }
 ],
 "metadata": {
  "kernelspec": {
   "display_name": "Python 3.10.8 64-bit (microsoft store)",
   "language": "python",
   "name": "python3"
  },
  "language_info": {
   "codemirror_mode": {
    "name": "ipython",
    "version": 3
   },
   "file_extension": ".py",
   "mimetype": "text/x-python",
   "name": "python",
   "nbconvert_exporter": "python",
   "pygments_lexer": "ipython3",
   "version": "3.10.8"
  },
  "orig_nbformat": 4,
  "vscode": {
   "interpreter": {
    "hash": "cd85abab4e42ed52d78993b1b54e037968b74145d44eb01d9e116517c8fc42a2"
   }
  }
 },
 "nbformat": 4,
 "nbformat_minor": 2
}
