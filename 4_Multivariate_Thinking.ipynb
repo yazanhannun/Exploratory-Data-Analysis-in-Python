{
 "cells": [
  {
   "cell_type": "markdown",
   "metadata": {},
   "source": [
    "# Multivariate Thinking\n",
    "\n",
    "Explore multivariate relationships using multiple regression to describe non-linear relationships and logistic regression to explain and predict binary variables."
   ]
  },
  {
   "cell_type": "code",
   "execution_count": 1,
   "metadata": {},
   "outputs": [],
   "source": [
    "# import brfss datasets as DataFrame\n",
    "import pandas as pd\n",
    "brfss = pd.read_hdf('C:\\\\Users\\\\yazan\\\\Desktop\\\\Data_Analytics\\\\7-Exploratory Data Analysis in Python\\\\datasets\\\\brfss.hdf5', 'brfss')"
   ]
  },
  {
   "cell_type": "markdown",
   "metadata": {},
   "source": [
    "# 1. Limits of simple regression"
   ]
  },
  {
   "cell_type": "markdown",
   "metadata": {},
   "source": [
    "1.1 Regression and causation\n",
    "\n",
    "In the BRFSS dataset, there is a strong relationship between vegetable consumption and income. The income of people who eat 8 servings of vegetables per day is double the income of people who eat none, on average.\n",
    "\n",
    "Which of the following conclusions can we draw from this data?\n",
    "\n",
    "A. Eating a good diet leads to better health and higher income.\n",
    "\n",
    "B. People with higher income can afford a better diet.\n",
    "\n",
    "C. People with high income are more likely to be vegetarians.\n",
    "\n",
    "Answer: is none of above, because this data is consistent with all of these conclusions, but it does not provide conclusive evidence for any of them."
   ]
  },
  {
   "cell_type": "markdown",
   "metadata": {},
   "source": [
    "1.2 Using StatsModels\n",
    "\n",
    "Let's run the same regression using SciPy and StatsModels, and confirm we get the same results."
   ]
  },
  {
   "cell_type": "code",
   "execution_count": 3,
   "metadata": {},
   "outputs": [
    {
     "name": "stdout",
     "output_type": "stream",
     "text": [
      "LinregressResult(slope=0.06988048092105022, intercept=1.5287786243363104, rvalue=0.11967005884864104, pvalue=1.3785039162477718e-238, stderr=0.002110976356332333, intercept_stderr=0.013196467544093607)\n",
      "Intercept    1.528779\n",
      "INCOME2      0.069880\n",
      "dtype: float64\n"
     ]
    }
   ],
   "source": [
    "from scipy.stats import linregress\n",
    "import statsmodels.formula.api as smf\n",
    "\n",
    "# Run regression with linregress\n",
    "subset = brfss.dropna(subset=['INCOME2', '_VEGESU1'])\n",
    "xs = subset['INCOME2']\n",
    "ys = subset['_VEGESU1']\n",
    "res = linregress(xs, ys)\n",
    "print(res)\n",
    "\n",
    "# Run regression with StatsModels\n",
    "results = smf.ols('_VEGESU1 ~ INCOME2', data = brfss).fit()\n",
    "print(results.params)"
   ]
  },
  {
   "cell_type": "markdown",
   "metadata": {},
   "source": [
    "As you see in previous example the statsmodels library give us the same answer as scipy library"
   ]
  }
 ],
 "metadata": {
  "kernelspec": {
   "display_name": "Python 3.10.8 64-bit (microsoft store)",
   "language": "python",
   "name": "python3"
  },
  "language_info": {
   "codemirror_mode": {
    "name": "ipython",
    "version": 3
   },
   "file_extension": ".py",
   "mimetype": "text/x-python",
   "name": "python",
   "nbconvert_exporter": "python",
   "pygments_lexer": "ipython3",
   "version": "3.10.8"
  },
  "orig_nbformat": 4,
  "vscode": {
   "interpreter": {
    "hash": "cd85abab4e42ed52d78993b1b54e037968b74145d44eb01d9e116517c8fc42a2"
   }
  }
 },
 "nbformat": 4,
 "nbformat_minor": 2
}
