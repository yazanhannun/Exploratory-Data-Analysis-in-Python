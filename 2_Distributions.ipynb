{
 "cells": [
  {
   "cell_type": "markdown",
   "metadata": {},
   "source": [
    "# Distributions\n",
    "\n",
    "In the first chapter, having cleaned and validated your data, you began exploring it by using histograms to visualize distributions. In this chapter, you'll learn how to represent distributions using Probability Mass Functions (PMFs) and Cumulative Distribution Functions (CDFs). You'll learn when to use each of them, and why, while working with a new dataset obtained from the General Social Survey."
   ]
  },
  {
   "cell_type": "markdown",
   "metadata": {},
   "source": [
    "# 1. Probability mass functions\n"
   ]
  },
  {
   "cell_type": "markdown",
   "metadata": {},
   "source": [
    "1.2 Make a PMF\n",
    "\n",
    "The GSS dataset has been pre-loaded for you into a DataFrame called gss. You can explore it in the IPython \n",
    "Shell to get familiar with it.\n",
    "\n",
    "In this exercise, you'll focus on one variable in this dataset, 'year', which represents the year each \n",
    "respondent was interviewed.\n",
    "\n",
    "You can access the Pmf classvia the empiricaldist library \n",
    "https://nbviewer.org/github/AllenDowney/empiricaldist/blob/master/empiricaldist/dist_demo.ipynb\n",
    "\n",
    "and https://github.com/AllenDowney/ExploratoryDataAnalysis/blob/master/distribution.ipynb"
   ]
  },
  {
   "cell_type": "markdown",
   "metadata": {},
   "source": [
    "The Pmf class"
   ]
  },
  {
   "cell_type": "code",
   "execution_count": null,
   "metadata": {},
   "outputs": [],
   "source": [
    "import pandas as pd\n",
    "import matplotlib.pyplot as plt\n",
    "from empiricaldist import Pmf\n",
    "\n",
    "def underride(d, **options):\n",
    "    \"\"\"Add key-value pairs to d only if key is not in d.\n",
    "\n",
    "    d: dictionary\n",
    "    options: keyword args to add to d\n",
    "    \"\"\"\n",
    "    for key, val in options.items():\n",
    "        d.setdefault(key, val)\n",
    "\n",
    "    return d\n",
    "\n",
    "class Pmf(pd.Series):\n",
    "    \n",
    "    def __init__(self, seq, name='Pmf', **options):\n",
    "        \"\"\"Make a PMF from a sequence.\n",
    "        \n",
    "        seq: sequence of values\n",
    "        name: string\n",
    "        sort: boolean, whether to sort the values, default True\n",
    "        normalize: boolean, whether to normalize the Pmf, default True\n",
    "        dropna: boolean, whether to drop NaN, default True\n",
    "        \"\"\"\n",
    "        # get the sort flag\n",
    "        sort = options.pop('sort', True)\n",
    "\n",
    "        # normalize unless the caller said not to\n",
    "        underride(options, normalize=True)\n",
    "        \n",
    "        # put the seq in a Series so we can use value_counts\n",
    "        series = pd.Series(seq, copy=False)\n",
    "        \n",
    "        # make the counts\n",
    "        # by default value_counts sorts by frequency, which\n",
    "        # is not what we want\n",
    "        options['sort'] = False\n",
    "        counts = series.value_counts(**options)\n",
    "        \n",
    "        # sort by value\n",
    "        if sort:\n",
    "            counts.sort_index(inplace=True)\n",
    "            \n",
    "        # call Series.__init__\n",
    "        super().__init__(counts, name=name)\n",
    "\n",
    "    @property\n",
    "    def qs(self):\n",
    "        return self.index.values\n",
    "\n",
    "    @property\n",
    "    def ps(self):\n",
    "        return self.values\n",
    "\n",
    "    def __call__(self, qs):\n",
    "        \"\"\"Look up a value in the PMF.\"\"\"\n",
    "        return self.get(qs, 0)\n",
    "\n",
    "    def normalize(self):\n",
    "        \"\"\"Normalize the PMF.\"\"\"\n",
    "        self /= self.sum()\n",
    "\n",
    "    def bar(self, **options):\n",
    "        \"\"\"Plot the PMF as a bar plot.\"\"\"\n",
    "        underride(options, label=self.name)\n",
    "        plt.bar(self.index, self.values, **options)\n",
    "\n",
    "    def plot(self, **options):\n",
    "        \"\"\"Plot the PMF with lines.\"\"\"\n",
    "        underride(options, label=self.name)\n",
    "        plt.plot(self.index, self.values, **options)"
   ]
  },
  {
   "cell_type": "code",
   "execution_count": 45,
   "metadata": {},
   "outputs": [
    {
     "name": "stdout",
     "output_type": "stream",
     "text": [
      "   year   age  cohort  sex  race  educ  realinc  gunlaw  grass  wtssall\n",
      "0  1972  26.0  1946.0    1     1  18.0  13537.0     2.0    NaN   0.8893\n",
      "1  1972  38.0  1934.0    2     1  12.0  18951.0     1.0    NaN   0.4446\n",
      "2  1972  57.0  1915.0    1     1  12.0  30458.0     1.0    NaN   1.3339\n",
      "3  1972  61.0  1911.0    2     1  14.0  37226.0     1.0    NaN   0.8893\n",
      "4  1972  59.0  1913.0    1     1  12.0  30458.0     2.0    NaN   0.8893\n",
      "1972    1613\n",
      "1973    1504\n",
      "1974    1484\n",
      "1975    1490\n",
      "1976    1499\n",
      "1977    1530\n",
      "1978    1532\n",
      "1980    1468\n",
      "1982    1860\n",
      "1983    1599\n",
      "1984    1473\n",
      "1985    1534\n",
      "1986    1470\n",
      "1987    1819\n",
      "1988    1481\n",
      "1989    1537\n",
      "1990    1372\n",
      "1991    1517\n",
      "1993    1606\n",
      "1994    2992\n",
      "1996    2904\n",
      "1998    2832\n",
      "2000    2817\n",
      "2002    2765\n",
      "2004    2812\n",
      "2006    4510\n",
      "2008    2023\n",
      "2010    2044\n",
      "2012    1974\n",
      "2014    2538\n",
      "2016    2867\n",
      "Name: Pmf, dtype: int64\n"
     ]
    }
   ],
   "source": [
    "# from empiricaldist import Pmf\n",
    "gss = pd.read_hdf('C:\\\\Users\\\\yazan\\\\Desktop\\\\Data_Analytics\\\\7-Exploratory Data Analysis in Python\\\\datasets\\\\gss.hdf5','gss')\n",
    "print(gss.head())\n",
    "# Compute the PMF for year and set normalize to False\n",
    "pmf_year = Pmf(gss.year, normalize=False)\n",
    "\n",
    "# Print the result\n",
    "print(pmf_year)"
   ]
  },
  {
   "cell_type": "code",
   "execution_count": 44,
   "metadata": {},
   "outputs": [
    {
     "name": "stdout",
     "output_type": "stream",
     "text": [
      "1972    0.025822\n",
      "1973    0.024077\n",
      "1974    0.023757\n",
      "1975    0.023853\n",
      "1976    0.023997\n",
      "1977    0.024493\n",
      "1978    0.024525\n",
      "1980    0.023501\n",
      "1982    0.029776\n",
      "1983    0.025598\n",
      "1984    0.023581\n",
      "1985    0.024557\n",
      "1986    0.023533\n",
      "1987    0.029120\n",
      "1988    0.023709\n",
      "1989    0.024605\n",
      "1990    0.021964\n",
      "1991    0.024285\n",
      "1993    0.025710\n",
      "1994    0.047898\n",
      "1996    0.046489\n",
      "1998    0.045337\n",
      "2000    0.045097\n",
      "2002    0.044264\n",
      "2004    0.045016\n",
      "2006    0.072199\n",
      "2008    0.032386\n",
      "2010    0.032722\n",
      "2012    0.031601\n",
      "2014    0.040630\n",
      "2016    0.045897\n",
      "Name: Pmf, dtype: float64\n"
     ]
    }
   ],
   "source": [
    "# from empiricaldist import Pmf\n",
    "gss = pd.read_hdf('C:\\\\Users\\\\yazan\\\\Desktop\\\\Data_Analytics\\\\7-Exploratory Data Analysis in Python\\\\datasets\\\\gss.hdf5','gss')\n",
    "\n",
    "# Compute the PMF for year and set normalize to True\n",
    "pmf_year = Pmf(gss.year, normalize=True)\n",
    "\n",
    "# Print the result\n",
    "print(pmf_year)"
   ]
  },
  {
   "cell_type": "markdown",
   "metadata": {},
   "source": [
    "1.2 Plot a PMF\n",
    "\n",
    "Now let's plot a PMF for the age of the respondents in the GSS dataset. The variable 'age' contains respondents' age in years."
   ]
  },
  {
   "cell_type": "code",
   "execution_count": null,
   "metadata": {},
   "outputs": [],
   "source": [
    "# Select the age column\n",
    "age = gss['age']\n",
    "\n",
    "# Make a PMF of age\n",
    "pmf_age = Pmf(age)\n",
    "\n",
    "# Plot the PMF\n",
    "pmf_age.bar(label='age')\n",
    "\n",
    "# Label the axes\n",
    "plt.xlabel('Age')\n",
    "plt.ylabel('PMF')\n",
    "plt.show()"
   ]
  },
  {
   "cell_type": "markdown",
   "metadata": {},
   "source": [
    "# 2. Cumulative distribution functions"
   ]
  },
  {
   "cell_type": "markdown",
   "metadata": {},
   "source": [
    "2.2 Make a CDF\n",
    "\n",
    "In this exercise, you'll make a CDF and use it to determine the fraction of respondents in the GSS dataset who are OLDER than 30.\n",
    "\n",
    "The GSS dataset has been preloaded for you into a DataFrame called gss.\n",
    "\n",
    "As with the Pmf class from the previous lesson, the Cdf class has been created, and you can access it via the empiricaldist library.\n",
    "\n",
    "https://nbviewer.org/github/AllenDowney/empiricaldist/blob/master/empiricaldist/dist_demo.ipynb\n",
    "\n",
    "and https://github.com/AllenDowney/ExploratoryDataAnalysis/blob/master/distribution.ipynb"
   ]
  },
  {
   "cell_type": "markdown",
   "metadata": {},
   "source": [
    "The CDF Class"
   ]
  },
  {
   "cell_type": "code",
   "execution_count": null,
   "metadata": {},
   "outputs": [],
   "source": [
    "from scipy.interpolate import interp1d\n",
    "import pandas as pd\n",
    "\n",
    "class Cdf(pd.Series):\n",
    "\n",
    "    def __init__(self, seq, name='Cdf', **options):\n",
    "        \"\"\"Make a CDF from a sequence.\n",
    "        \n",
    "        seq: sequence of values\n",
    "        name: string\n",
    "        sort: boolean, whether to sort the values, default True\n",
    "        normalize: boolean, whether to normalize the Cdf, default True\n",
    "        dropna: boolean, whether to drop NaN, default True\n",
    "        \"\"\"\n",
    "        # get the normalize option\n",
    "        normalize = options.pop('normalize', True)\n",
    "        \n",
    "        # make the PMF and CDF\n",
    "        pmf = Pmf(seq, normalize=False, **options)\n",
    "        cdf = pmf.cumsum()\n",
    "        \n",
    "        # normalizing the CDF, rather than the PMF,\n",
    "        # avoids floating-point errors and guarantees\n",
    "        # that the last proability is 1.0\n",
    "        if normalize:\n",
    "            cdf /= cdf.values[-1]\n",
    "        super().__init__(cdf, name=name, copy=False)\n",
    "        \n",
    "    @property\n",
    "    def qs(self):\n",
    "        return self.index.values\n",
    "\n",
    "    @property\n",
    "    def ps(self):\n",
    "        return self.values\n",
    "\n",
    "    @property\n",
    "    def forward(self):\n",
    "        return interp1d(self.qs, self.ps,\n",
    "                        kind='previous',\n",
    "                        assume_sorted=True,\n",
    "                        bounds_error=False,\n",
    "                        fill_value=(0,1))\n",
    "\n",
    "    @property\n",
    "    def inverse(self):\n",
    "        return interp1d(self.ps, self.qs,\n",
    "                        kind='next',\n",
    "                        assume_sorted=True,\n",
    "                        bounds_error=False,\n",
    "                        fill_value=(self.qs[0], np.nan))\n",
    "\n",
    "    def __call__(self, qs):\n",
    "        return self.forward(qs)\n",
    "\n",
    "    def percentile_rank(self, qs):\n",
    "        return self.forward(qs) * 100\n",
    "\n",
    "    def percentile(self, percentile_ranks):\n",
    "        return self.inverse(percentile_ranks / 100)\n",
    "\n",
    "    def step(self, **options):\n",
    "        \"\"\"Plot the CDF as a step function.\"\"\"\n",
    "        underride(options, label=self.name, where='post')\n",
    "        plt.step(self.index, self.values, **options)\n",
    "\n",
    "    def plot(self, **options):\n",
    "        \"\"\"Plot the CDF as a line.\"\"\"\n",
    "        underride(options, label=self.name)\n",
    "        plt.plot(self.index, self.values, **options)"
   ]
  },
  {
   "cell_type": "code",
   "execution_count": null,
   "metadata": {},
   "outputs": [],
   "source": [
    "# Select the age column\n",
    "age = gss['age']\n",
    "\n",
    "# Compute the CDF of age\n",
    "cdf_age = Cdf(age)\n",
    "\n",
    "# Calculate the CDF of 30\n",
    "print(cdf_age(30))"
   ]
  },
  {
   "cell_type": "markdown",
   "metadata": {},
   "source": [
    "Question:\n",
    "\n",
    "What fraction of the respondents in the GSS dataset are OLDER than 30?\n",
    "\n",
    "Possible Answers:\n",
    "\n",
    "- Approximately 75% (True)\n",
    "- Approximately 65%\n",
    "- Approximately 45%\n",
    "- Approximately 25%"
   ]
  },
  {
   "cell_type": "markdown",
   "metadata": {},
   "source": [
    "2.2 Compute IQR\n",
    "\n",
    "The interquartile range (IQR) is the difference between the 75th and 25th percentiles. It is a measure of variability that is robust in the presence of errors or extreme values.\n",
    "\n",
    "In this exercise, you'll compute the interquartile range of income in the GSS dataset. Income is stored in the 'realinc' column, and the CDF of income has already been computed and stored in cdf_income."
   ]
  },
  {
   "cell_type": "code",
   "execution_count": null,
   "metadata": {},
   "outputs": [],
   "source": [
    "# To use inverse import numpy\n",
    "import numpy as np\n",
    "\n",
    "# Select the income column\n",
    "income = gss['realinc']\n",
    "\n",
    "# Compute the CDF of age\n",
    "cdf_income = Cdf(income)\n",
    "\n",
    "# Calculate the 75th percentile \n",
    "percentile_75th = cdf_income.inverse(0.75)\n",
    "\n",
    "# Calculate the 25th percentile\n",
    "percentile_25th = cdf_income.inverse(0.25)\n",
    "\n",
    "# Calculate the interquartile range\n",
    "iqr = percentile_75th - percentile_25th\n",
    "\n",
    "# Print the interquartile range\n",
    "print(iqr)"
   ]
  },
  {
   "cell_type": "markdown",
   "metadata": {},
   "source": [
    "Question:\n",
    "What is the interquartile range (IQR) of income in the GSS dataset?\n",
    "\n",
    "Possible Answers:\n",
    "- Approximately 29676 (True)\n",
    "- Approximately 26015\n",
    "- Approximately 34702\n",
    "- Approximately 30655"
   ]
  },
  {
   "cell_type": "markdown",
   "metadata": {},
   "source": [
    "2.3 Plot a CDF\n",
    "\n",
    "The distribution of income in almost every country is long-tailed; that is, there are a small number of people with very high incomes.\n",
    "\n",
    "In the GSS dataset, the variable 'realinc' represents total household income, converted to 1986 dollars. We can get a sense of the shape of this distribution by plotting the CDF."
   ]
  },
  {
   "cell_type": "code",
   "execution_count": null,
   "metadata": {},
   "outputs": [],
   "source": [
    "# Select realinc\n",
    "income = gss['realinc']\n",
    "\n",
    "# Make the CDF\n",
    "cdf_income = Cdf(income)\n",
    "\n",
    "# Plot it\n",
    "cdf_income.plot()\n",
    "\n",
    "# Label the axes\n",
    "plt.xlabel('Income (1986 USD)')\n",
    "plt.ylabel('CDF')\n",
    "plt.show()"
   ]
  },
  {
   "cell_type": "markdown",
   "metadata": {},
   "source": [
    "# 3. Comparing distributions"
   ]
  },
  {
   "cell_type": "markdown",
   "metadata": {},
   "source": [
    "3.1 Distribution of education\n",
    "\n",
    "Let's begin comparing incomes for different levels of education in the GSS dataset, which has been pre-loaded for you into a DataFrame called gss. The variable educ represents the respondent's years of education.\n",
    "\n",
    "What fraction of respondents report that they have 12 years of education or fewer?"
   ]
  },
  {
   "cell_type": "code",
   "execution_count": 46,
   "metadata": {},
   "outputs": [
    {
     "name": "stdout",
     "output_type": "stream",
     "text": [
      "0.5322611710323575\n"
     ]
    }
   ],
   "source": [
    "# Select educ\n",
    "educ = gss['educ']\n",
    "\n",
    "# Make the CDF\n",
    "cdf_educ = Cdf(educ)\n",
    "\n",
    "# Calculate the CDF of 12\n",
    "print(cdf_educ(12))"
   ]
  }
 ],
 "metadata": {
  "kernelspec": {
   "display_name": "Python 3.10.8 64-bit (microsoft store)",
   "language": "python",
   "name": "python3"
  },
  "language_info": {
   "codemirror_mode": {
    "name": "ipython",
    "version": 3
   },
   "file_extension": ".py",
   "mimetype": "text/x-python",
   "name": "python",
   "nbconvert_exporter": "python",
   "pygments_lexer": "ipython3",
   "version": "3.10.8"
  },
  "orig_nbformat": 4,
  "vscode": {
   "interpreter": {
    "hash": "cd85abab4e42ed52d78993b1b54e037968b74145d44eb01d9e116517c8fc42a2"
   }
  }
 },
 "nbformat": 4,
 "nbformat_minor": 2
}
